{
 "cells": [
  {
   "cell_type": "code",
   "execution_count": 1,
   "id": "645332d5",
   "metadata": {},
   "outputs": [
    {
     "data": {
      "application/vnd.jupyter.widget-view+json": {
       "model_id": "b8e36b813cd447298871d5a0be3e7828",
       "version_major": 2,
       "version_minor": 0
      },
      "text/plain": [
       "Renderer(camera=PerspectiveCamera(children=(DirectionalLight(color='white', intensity=0.6, position=(7.4999998…"
      ]
     },
     "metadata": {},
     "output_type": "display_data"
    }
   ],
   "source": [
    "import torch\n",
    "from tomcubes import MarchingCubesFunction\n",
    "from sample.util import plot_mesh\n",
    "\n",
    "n = 16\n",
    "x = torch.linspace(-1, 1, n, device='cuda')\n",
    "volume = 1-torch.sqrt(torch.sum(torch.stack(torch.meshgrid(x, x, x))**2, dim=0))\n",
    "volume = volume.view(1, 1, n, n, n)\n",
    "verts_list = MarchingCubesFunction.apply(volume, 0.2, [0,0,0], [1,1,1])\n",
    "plot_mesh(verts_list[0])"
   ]
  }
 ],
 "metadata": {
  "kernelspec": {
   "display_name": "Python 3",
   "language": "python",
   "name": "python3"
  },
  "language_info": {
   "codemirror_mode": {
    "name": "ipython",
    "version": 3
   },
   "file_extension": ".py",
   "mimetype": "text/x-python",
   "name": "python",
   "nbconvert_exporter": "python",
   "pygments_lexer": "ipython3",
   "version": "3.7.10"
  }
 },
 "nbformat": 4,
 "nbformat_minor": 5
}
